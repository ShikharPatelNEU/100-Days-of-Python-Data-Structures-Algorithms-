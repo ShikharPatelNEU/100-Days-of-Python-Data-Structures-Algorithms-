{
 "cells": [
  {
   "cell_type": "code",
   "execution_count": 25,
   "id": "5ce6845a",
   "metadata": {},
   "outputs": [
    {
     "name": "stdout",
     "output_type": "stream",
     "text": [
      "0  2  4  6  8  10  "
     ]
    }
   ],
   "source": [
    "##1. Print all even numbers between 1 and n.\n",
    "nums=int(input())\n",
    "\n",
    "for i in range(0,nums+1):\n",
    "    if i%2==0:\n",
    "        print(i,end='  ')"
   ]
  },
  {
   "cell_type": "code",
   "execution_count": null,
   "id": "e464b19e",
   "metadata": {},
   "outputs": [
    {
     "name": "stdout",
     "output_type": "stream",
     "text": [
      "No input provided.\n"
     ]
    }
   ],
   "source": [
    "##2. Count the digits in an integer.\n",
    "nums = int(input())\n",
    "\n",
    "count=0\n",
    "\n",
    "for i in str(nums):\n",
    "    count+=1\n",
    "\n",
    "print(count)\n"
   ]
  },
  {
   "cell_type": "code",
   "execution_count": null,
   "id": "32e92f08",
   "metadata": {},
   "outputs": [],
   "source": [
    "user_input = input(\"Enter an integer: \")\n",
    "\n",
    "if user_input.strip() == \"\":\n",
    "    print(\"No input provided.\")\n",
    "else:\n",
    "    try:\n",
    "        nums = int(user_input)\n",
    "        count = 0\n",
    "        for i in str(abs(nums)):  # abs() to handle negative numbers\n",
    "            count += 1\n",
    "        print(\"Number of digits:\", count)\n",
    "    except ValueError:\n",
    "        print(\"Invalid input. Please enter a valid integer.\")\n"
   ]
  },
  {
   "cell_type": "code",
   "execution_count": 37,
   "id": "d6ef6868",
   "metadata": {},
   "outputs": [
    {
     "name": "stdout",
     "output_type": "stream",
     "text": [
      "45\n"
     ]
    }
   ],
   "source": [
    "##3. Calculate the sum of digits in a number.\n",
    "num = int(input())\n",
    "total = 0\n",
    "\n",
    "for i in str(abs(num)):\n",
    "    total+=int(i)\n",
    "\n",
    "print(total)\n",
    "\n"
   ]
  },
  {
   "cell_type": "code",
   "execution_count": null,
   "id": "732a5328",
   "metadata": {},
   "outputs": [
    {
     "name": "stdout",
     "output_type": "stream",
     "text": [
      "1 4 9 "
     ]
    }
   ],
   "source": [
    "##4. Create a list of squares from 1 to n.\n",
    "n = int(input())\n",
    "for i in range(1,n+1):\n",
    "    print(i*i, end = \" \")"
   ]
  },
  {
   "cell_type": "code",
   "execution_count": 33,
   "id": "ed6c607d",
   "metadata": {},
   "outputs": [
    {
     "name": "stdout",
     "output_type": "stream",
     "text": [
      "5\n",
      "30\n",
      "25\n"
     ]
    }
   ],
   "source": [
    "##5. Find the difference between the sum of even and odd numbers in a list.\n",
    "\n",
    "nums = [1,2,3,4,5,6,7,8,9,10]\n",
    "sume = 0\n",
    "sumo = 0\n",
    "for i in nums:\n",
    "    if i%2==0:\n",
    "        sume=sume+i\n",
    "    else:\n",
    "        sumo=sumo+i\n",
    "difference = sume-sumo\n",
    "print(difference)\n",
    "print(sume)\n",
    "print(sumo)"
   ]
  },
  {
   "cell_type": "code",
   "execution_count": 35,
   "id": "1d4597f9",
   "metadata": {},
   "outputs": [
    {
     "name": "stdout",
     "output_type": "stream",
     "text": [
      "[9, 8, 7, 6, 5, 4, 3, 2, 1]\n"
     ]
    }
   ],
   "source": [
    "##6. Print elements of a list in reverse without using reverse().\n",
    "lst = [1,2,3,4,5,6,7,8,9]\n",
    "lst.reverse()\n",
    "print(lst)"
   ]
  },
  {
   "cell_type": "code",
   "execution_count": 36,
   "id": "c9064361",
   "metadata": {},
   "outputs": [
    {
     "name": "stdout",
     "output_type": "stream",
     "text": [
      "3 5 6 9 10 12 15 18 20 21 24 25 27 30 33 35 36 39 40 42 45 48 50 51 54 55 57 60 63 65 66 69 70 72 75 78 80 81 84 85 87 90 93 95 96 99 100 "
     ]
    }
   ],
   "source": [
    "##7. Find and print all numbers divisible by 3 or 5 from 1 to 100.\n",
    "for i in range(1,101):\n",
    "    if i%3==0 or i%5==0:\n",
    "        print(i,end=\" \")\n",
    "        "
   ]
  },
  {
   "cell_type": "code",
   "execution_count": 45,
   "id": "e4239989",
   "metadata": {},
   "outputs": [
    {
     "name": "stdout",
     "output_type": "stream",
     "text": [
      "Minimum value: 0\n"
     ]
    }
   ],
   "source": [
    "##8. Find the minimum value in a list without using min().\n",
    "lst = [1, 2, 3, 4, 5, 6, 7, 8, 9, 0]\n",
    "\n",
    "min_val = lst[0]\n",
    "\n",
    "for num in lst:\n",
    "    if num < min_val:\n",
    "        min_val = num\n",
    "\n",
    "print(\"Minimum value:\", min_val)\n"
   ]
  },
  {
   "cell_type": "code",
   "execution_count": 9,
   "id": "55ac67d3",
   "metadata": {},
   "outputs": [],
   "source": [
    "##9. Check whether an integer is prime."
   ]
  },
  {
   "cell_type": "code",
   "execution_count": 2,
   "id": "79ef4424",
   "metadata": {},
   "outputs": [
    {
     "name": "stdout",
     "output_type": "stream",
     "text": [
      "*\n",
      "**\n",
      "***\n",
      "****\n",
      "*****\n"
     ]
    }
   ],
   "source": [
    "##10.Print a right-angled triangle pattern of stars * for n rows.\n",
    "n = int(input())\n",
    "\n",
    "for i in range(1,n+1):\n",
    "    print(\"*\"*i)\n",
    "    "
   ]
  },
  {
   "cell_type": "code",
   "execution_count": 12,
   "id": "c8796e86",
   "metadata": {},
   "outputs": [
    {
     "name": "stdout",
     "output_type": "stream",
     "text": [
      "Number of words: 1\n"
     ]
    }
   ],
   "source": [
    "##11. Count the number of words in a string.\n",
    "n = input(\"Enter a sentence: \")\n",
    "words = n.split()\n",
    "count = len(words)\n",
    "print(\"Number of words:\", count)\n"
   ]
  },
  {
   "cell_type": "code",
   "execution_count": 5,
   "id": "055c564e",
   "metadata": {},
   "outputs": [
    {
     "name": "stdout",
     "output_type": "stream",
     "text": [
      "shikhar\n"
     ]
    }
   ],
   "source": [
    "##12. Remove all spaces from a string.\n",
    "n = input(\"Enter a string: \")\n",
    "result = n.replace(\" \", \"\")\n",
    "print(result)\n"
   ]
  },
  {
   "cell_type": "code",
   "execution_count": 6,
   "id": "cc154186",
   "metadata": {},
   "outputs": [
    {
     "name": "stdout",
     "output_type": "stream",
     "text": [
      "Characters that occur more than once:\n",
      "h\n"
     ]
    }
   ],
   "source": [
    "##13. Print the characters in a string that occur more than once.\n",
    "\n",
    "n = input(\"Enter a string: \")\n",
    "freq = {}\n",
    "\n",
    "for char in n:\n",
    "    if char in freq:\n",
    "        freq[char] += 1\n",
    "    else:\n",
    "        freq[char] = 1\n",
    "print(\"Characters that occur more than once:\")\n",
    "for char, count in freq.items():\n",
    "    if count > 1:\n",
    "        print(char)\n"
   ]
  },
  {
   "cell_type": "code",
   "execution_count": null,
   "id": "06e02dd2",
   "metadata": {},
   "outputs": [
    {
     "name": "stdout",
     "output_type": "stream",
     "text": [
      "H*ll* w*rld\n"
     ]
    }
   ],
   "source": [
    "##14. Replace vowels in a string with a *.\n",
    "n = input()\n",
    "result=\"\"\n",
    "for i in n:\n",
    "    if i in \"aeiou\":\n",
    "      result+= \"*\"\n",
    "    else:\n",
    "       result+=i\n",
    "\n",
    "print(result)\n"
   ]
  },
  {
   "cell_type": "code",
   "execution_count": 7,
   "id": "31e0e80e",
   "metadata": {},
   "outputs": [
    {
     "name": "stdout",
     "output_type": "stream",
     "text": [
      "apple-banana-cherry\n"
     ]
    }
   ],
   "source": [
    "##15. Convert a list of strings to a single string separated by -.\n",
    "\n",
    "lst = [\"apple\", \"banana\", \"cherry\"]\n",
    "result = \"-\".join(lst)\n",
    "print(result)\n"
   ]
  },
  {
   "cell_type": "code",
   "execution_count": 8,
   "id": "d97973b6",
   "metadata": {},
   "outputs": [
    {
     "name": "stdout",
     "output_type": "stream",
     "text": [
      "[1, 3, 5]\n"
     ]
    }
   ],
   "source": [
    "##16. Find all indices of a value in a list.\n",
    "def find_indices(lst, value):\n",
    "    return [i for i, x in enumerate(lst) if x == value]\n",
    "lst = [1, 2, 3, 2, 4, 2, 5]\n",
    "value = 2\n",
    "indices = find_indices(lst, value)\n",
    "print(indices)\n"
   ]
  },
  {
   "cell_type": "code",
   "execution_count": 9,
   "id": "491e733a",
   "metadata": {},
   "outputs": [
    {
     "name": "stdout",
     "output_type": "stream",
     "text": [
      "Reversed number: 54321\n"
     ]
    }
   ],
   "source": [
    "##17. Reverse the digits of a number using a loop.\n",
    "n = int(input(\"Enter a number: \"))\n",
    "rev = 0\n",
    "\n",
    "while n > 0:\n",
    "    digit = n % 10      \n",
    "    rev = rev * 10 + digit  \n",
    "    n = n // 10          \n",
    "\n",
    "print(\"Reversed number:\", rev)\n"
   ]
  },
  {
   "cell_type": "code",
   "execution_count": 10,
   "id": "9f74e5be",
   "metadata": {},
   "outputs": [
    {
     "name": "stdout",
     "output_type": "stream",
     "text": [
      "All characters are alphabets.\n"
     ]
    }
   ],
   "source": [
    "##18. Check if all characters in a string are alphabets.\n",
    "\n",
    "n = input(\"Enter a string: \")\n",
    "\n",
    "if n.isalpha():\n",
    "    print(\"All characters are alphabets.\")\n",
    "else:\n",
    "    print(\"The string contains non-alphabet characters.\")\n"
   ]
  },
  {
   "cell_type": "code",
   "execution_count": 11,
   "id": "c8619164",
   "metadata": {},
   "outputs": [
    {
     "name": "stdout",
     "output_type": "stream",
     "text": [
      "Title case sentence: Shikhar\n"
     ]
    }
   ],
   "source": [
    "##19. Convert a sentence to title case manually.\n",
    "sentence = input(\"Enter a sentence: \")\n",
    "words = sentence.split()\n",
    "title_case = \"\"\n",
    "\n",
    "for word in words:\n",
    "    title_case += word[0].upper() + word[1:].lower() + \" \"\n",
    "\n",
    "print(\"Title case sentence:\", title_case.strip())\n"
   ]
  },
  {
   "cell_type": "code",
   "execution_count": 43,
   "id": "43e7db23",
   "metadata": {},
   "outputs": [
    {
     "name": "stdout",
     "output_type": "stream",
     "text": [
      "2*1=2\n",
      "2*2=4\n",
      "2*3=6\n",
      "2*4=8\n",
      "2*5=10\n",
      "2*6=12\n",
      "2*7=14\n",
      "2*8=16\n",
      "2*9=18\n",
      "2*10=20\n"
     ]
    }
   ],
   "source": [
    "##20. Print multiplication table of a number up to 10.\n",
    "num = int(input())\n",
    "\n",
    "for i in range(1,11): \n",
    "    mul = num*i\n",
    "    print(f\"{num}*{i}={mul}\")"
   ]
  }
 ],
 "metadata": {
  "kernelspec": {
   "display_name": "Python 3",
   "language": "python",
   "name": "python3"
  },
  "language_info": {
   "codemirror_mode": {
    "name": "ipython",
    "version": 3
   },
   "file_extension": ".py",
   "mimetype": "text/x-python",
   "name": "python",
   "nbconvert_exporter": "python",
   "pygments_lexer": "ipython3",
   "version": "3.12.0"
  }
 },
 "nbformat": 4,
 "nbformat_minor": 5
}
