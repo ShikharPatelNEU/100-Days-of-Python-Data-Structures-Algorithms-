{
 "cells": [
  {
   "cell_type": "code",
   "execution_count": 10,
   "id": "42998f73",
   "metadata": {},
   "outputs": [
    {
     "data": {
      "text/plain": [
       "1"
      ]
     },
     "execution_count": 10,
     "metadata": {},
     "output_type": "execute_result"
    }
   ],
   "source": [
    "## Linear Search Algorithm\n",
    "# This script implements a simple linear search algorithm in Python.\n",
    "def linear_search(arr,target):\n",
    "    for i in range(len(arr)):\n",
    "        if arr[i]==target:\n",
    "            return i\n",
    "    return -1\n",
    "\n",
    "linear_search([10,20,30,40,50,60],20)"
   ]
  },
  {
   "cell_type": "code",
   "execution_count": 14,
   "id": "c0ddf8dd",
   "metadata": {},
   "outputs": [
    {
     "data": {
      "text/plain": [
       "9"
      ]
     },
     "execution_count": 14,
     "metadata": {},
     "output_type": "execute_result"
    }
   ],
   "source": [
    "## Binary Search Algorithm\n",
    "# This script implements a binary search algorithm in Python.\n",
    "def binary_search(arr,target):\n",
    "    start = 0\n",
    "    end = len(arr)-1\n",
    "    while(start<=end):\n",
    "        mid = (start+end)//2\n",
    "        if (target==arr[mid]):\n",
    "            return mid\n",
    "        elif (target>arr[mid]):\n",
    "            start = mid+1\n",
    "        elif (target<arr[mid]):\n",
    "            end = mid-1\n",
    "    return -1\n",
    "\n",
    "binary_search([1,2,3,4,5,6,7,8,9,10],10)"
   ]
  },
  {
   "cell_type": "code",
   "execution_count": 16,
   "id": "8a5dab5d",
   "metadata": {},
   "outputs": [
    {
     "data": {
      "text/plain": [
       "[11, 12, 22, 25, 34, 64, 90]"
      ]
     },
     "execution_count": 16,
     "metadata": {},
     "output_type": "execute_result"
    }
   ],
   "source": [
    "##Bubble Sort Algorithm\n",
    "# This script implements the bubble sort algorithm in Python.\n",
    "def bubble_sort(arr):\n",
    "    n = len(arr)\n",
    "    for i in range(n):\n",
    "        for j in range(0, n-i-1):\n",
    "            if arr[j] >arr[j+1]:\n",
    "                arr[j], arr[j+1] = arr[j+1], arr[j]\n",
    "    return arr\n",
    "bubble_sort([64, 34, 25, 12, 22, 11, 90])"
   ]
  },
  {
   "cell_type": "code",
   "execution_count": 20,
   "id": "872caaae",
   "metadata": {},
   "outputs": [
    {
     "data": {
      "text/plain": [
       "[10, 111, 232, 345, 555, 2234, 20444]"
      ]
     },
     "execution_count": 20,
     "metadata": {},
     "output_type": "execute_result"
    }
   ],
   "source": [
    "## Selection Sort Algorithm\n",
    "# This script implements the selection sort algorithm in Python.\n",
    "\n",
    "def selection_sort(arr):\n",
    "    n = len(arr)\n",
    "    for i in range(n):\n",
    "        min_idx=i\n",
    "        for j in range(i+1,n):\n",
    "            if arr[j]<arr[min_idx]:\n",
    "                min_idx = j\n",
    "        arr[i], arr[min_idx] = arr[min_idx],arr[i]\n",
    "    return arr\n",
    "\n",
    "selection_sort([10,20444,2234,232,555,111,345])\n"
   ]
  },
  {
   "cell_type": "code",
   "execution_count": 21,
   "id": "e1d25fa7",
   "metadata": {},
   "outputs": [
    {
     "data": {
      "text/plain": [
       "[5, 6, 11, 12, 13]"
      ]
     },
     "execution_count": 21,
     "metadata": {},
     "output_type": "execute_result"
    }
   ],
   "source": [
    "## Insertion Sort Algorithm\n",
    "# This script implements the insertion sort algorithm in Python.\n",
    "\n",
    "def insertion_sort(arr):\n",
    "    n = len(arr)\n",
    "    for i in range(1,n):\n",
    "        key = arr[i]\n",
    "        j = i-1\n",
    "        while j>=0 and key<arr[j]:\n",
    "            arr[j+1] = arr[j]\n",
    "            j -= 1\n",
    "        arr[j+1] = key\n",
    "    return arr\n",
    "insertion_sort([12,11,13,5,6])"
   ]
  },
  {
   "cell_type": "code",
   "execution_count": null,
   "id": "800d6812",
   "metadata": {},
   "outputs": [],
   "source": []
  }
 ],
 "metadata": {
  "kernelspec": {
   "display_name": ".venv",
   "language": "python",
   "name": "python3"
  },
  "language_info": {
   "codemirror_mode": {
    "name": "ipython",
    "version": 3
   },
   "file_extension": ".py",
   "mimetype": "text/x-python",
   "name": "python",
   "nbconvert_exporter": "python",
   "pygments_lexer": "ipython3",
   "version": "3.11.5"
  }
 },
 "nbformat": 4,
 "nbformat_minor": 5
}
