{
 "cells": [
  {
   "cell_type": "code",
   "execution_count": 25,
   "id": "f78e50c0",
   "metadata": {},
   "outputs": [
    {
     "name": "stdout",
     "output_type": "stream",
     "text": [
      "10\n"
     ]
    }
   ],
   "source": [
    "## 1. Print the sum of all numbers from 1 to n\n",
    "\n",
    "num = int(input(\"Enter the Number:\"))\n",
    "sum=0\n",
    "\n",
    "for i in range(0,num+1):\n",
    "    sum = sum+i\n",
    "\n",
    "print(sum)"
   ]
  },
  {
   "cell_type": "code",
   "execution_count": 28,
   "id": "7bf18097",
   "metadata": {},
   "outputs": [
    {
     "name": "stdout",
     "output_type": "stream",
     "text": [
      "120\n"
     ]
    }
   ],
   "source": [
    "# 2. Find the factorial of a number using a loop\n",
    "## !4 = 4*3*2*1\n",
    "num = int(input(\"Enter the number:\"))\n",
    "\n",
    "mul =1\n",
    "\n",
    "for i in range(1,num+1):\n",
    "    mul = i*mul\n",
    "\n",
    "print(mul)\n"
   ]
  },
  {
   "cell_type": "code",
   "execution_count": 31,
   "id": "b8247ba9",
   "metadata": {},
   "outputs": [
    {
     "name": "stdout",
     "output_type": "stream",
     "text": [
      "dlrow olleh \n"
     ]
    }
   ],
   "source": [
    "## 3. Reverse a string using a loop\n",
    "word = input()\n",
    "reverse = \" \"\n",
    "\n",
    "for i in word:\n",
    "    reverse = i+reverse\n",
    "\n",
    "print(reverse)\n"
   ]
  },
  {
   "cell_type": "code",
   "execution_count": null,
   "id": "13fc3999",
   "metadata": {},
   "outputs": [
    {
     "name": "stdout",
     "output_type": "stream",
     "text": [
      "2\n"
     ]
    }
   ],
   "source": [
    "## 4. Count the number of vowels in a string\n",
    "word = input()\n",
    "count = 0\n",
    "\n",
    "for i in word:\n",
    "    if i.lower() in 'aeiou':\n",
    "        count = count+1\n",
    "\n",
    "print(count)\n",
    "## Shikhar "
   ]
  },
  {
   "cell_type": "code",
   "execution_count": 33,
   "id": "58e9aa89",
   "metadata": {},
   "outputs": [
    {
     "name": "stdout",
     "output_type": "stream",
     "text": [
      "6666\n"
     ]
    }
   ],
   "source": [
    "## 5. Find the largest number in a list\n",
    "num = [1,2,3,455,555,6666]\n",
    "max= num[0]\n",
    "\n",
    "for i in num:\n",
    "    if max< i:\n",
    "        max=i\n",
    "\n",
    "print(max)\n"
   ]
  },
  {
   "cell_type": "code",
   "execution_count": 34,
   "id": "27014abe",
   "metadata": {},
   "outputs": [
    {
     "name": "stdout",
     "output_type": "stream",
     "text": [
      "{'H': 1, 'e': 2, 'l': 3, 'o': 1, ' ': 1, 'P': 1, 'a': 1, 't': 1}\n"
     ]
    }
   ],
   "source": [
    "# 6.Count occurrences of each character in a string (dictionary use).\n",
    "word = input(\"Enter the word:\")\n",
    "\n",
    "key_pair = {}\n",
    "\n",
    "for i in word:\n",
    "    if i in key_pair:\n",
    "        key_pair[i]+=1\n",
    "    else:\n",
    "        key_pair[i]=1\n",
    "\n",
    "print(key_pair)\n"
   ]
  },
  {
   "cell_type": "code",
   "execution_count": 35,
   "id": "fc6338a4",
   "metadata": {},
   "outputs": [
    {
     "name": "stdout",
     "output_type": "stream",
     "text": [
      "20\n"
     ]
    }
   ],
   "source": [
    "## 7.Find the sum of even numbers in a list.\n",
    "num =[1,2,3,4,5,6,7,8,9]\n",
    "sum = 0\n",
    "\n",
    "for i in num:\n",
    "    if i%2==0:\n",
    "        sum = sum+i\n",
    "\n",
    "print(sum)\n"
   ]
  },
  {
   "cell_type": "code",
   "execution_count": 37,
   "id": "9e88893b",
   "metadata": {},
   "outputs": [
    {
     "name": "stdout",
     "output_type": "stream",
     "text": [
      "[1, 2, 3, 4, 5, 6, 7, 8, 9]\n"
     ]
    }
   ],
   "source": [
    "#8. Remove duplicates from a list using a set.\n",
    "num = [1,2,3,4,5,6,7,7,8,9]\n",
    "\n",
    "lst1 = list(set(num))\n",
    "print(lst1)"
   ]
  },
  {
   "cell_type": "code",
   "execution_count": 38,
   "id": "72074435",
   "metadata": {},
   "outputs": [
    {
     "name": "stdout",
     "output_type": "stream",
     "text": [
      "[9, 2, 3, 4, 5, 6, 7, 8, 1]\n"
     ]
    }
   ],
   "source": [
    "#9. Swap first and last element in a list.\n",
    "num1 = [1,2,3,4,5,6,7,8,9]\n",
    "\n",
    "num1[0],num1[-1]=num1[-1],num1[0]\n",
    "\n",
    "print(num1)"
   ]
  },
  {
   "cell_type": "code",
   "execution_count": null,
   "id": "0d2da0dc",
   "metadata": {},
   "outputs": [
    {
     "name": "stdout",
     "output_type": "stream",
     "text": [
      "It's a palindrome!\n"
     ]
    }
   ],
   "source": [
    "#10. Check if a string is a palindrome.\n",
    "\n",
    "word = input()\n",
    "\n",
    "if word==word[::-1]:\n",
    "    print(\"It's a palindrome!\")\n",
    "else:\n",
    "    print(\"It's not a palindrome\")\n",
    "## 'racecar'"
   ]
  },
  {
   "cell_type": "code",
   "execution_count": 61,
   "id": "2d4d0d1b",
   "metadata": {},
   "outputs": [
    {
     "name": "stdout",
     "output_type": "stream",
     "text": [
      "Comma-separated string: 1,2,3,4,5\n"
     ]
    }
   ],
   "source": [
    "##11. Convert a list of integers into a comma-separated string.\n",
    "lst = [1, 2, 3, 4, 5]\n",
    "result = \",\".join(str(num) for num in lst)\n",
    "print(\"Comma-separated string:\", result)\n",
    "\n"
   ]
  },
  {
   "cell_type": "code",
   "execution_count": 41,
   "id": "7920b0e7",
   "metadata": {},
   "outputs": [
    {
     "name": "stdout",
     "output_type": "stream",
     "text": [
      "[1, 2, 3, 4, 5, 5, 6, 7, 8, 9]\n"
     ]
    }
   ],
   "source": [
    "## 12. Merge two lists and sort the result.\n",
    "num1=[1,2,3,4,5]\n",
    "num2=[5,6,7,8,9]\n",
    "\n",
    "num3 = num1+num2\n",
    "num3.sort()\n",
    "print(num3)"
   ]
  },
  {
   "cell_type": "code",
   "execution_count": 42,
   "id": "aac2dbbc",
   "metadata": {},
   "outputs": [
    {
     "name": "stdout",
     "output_type": "stream",
     "text": [
      "{5, 6}\n"
     ]
    }
   ],
   "source": [
    "##13. Find the common elements between two lists using sets.\n",
    "lst1=[1,2,3,4,5,6]\n",
    "lst2=[5,6,7,8,9]\n",
    "set1=set(lst1)\n",
    "set2=set(lst2)\n",
    "\n",
    "lst3 = set1.intersection(set2)\n",
    "print(lst3)"
   ]
  },
  {
   "cell_type": "code",
   "execution_count": 49,
   "id": "cb2ae881",
   "metadata": {},
   "outputs": [
    {
     "name": "stdout",
     "output_type": "stream",
     "text": [
      "Maximum occurring element: 3\n"
     ]
    }
   ],
   "source": [
    "##14. Find the maximum occurring element in a list.\n",
    "\n",
    "lst1 = [1, 2, 3, 4, 5, 6, 7, 8, 9, 1, 2, 3, 3]\n",
    "\n",
    "frequency = {}\n",
    "\n",
    "if num in frequency:\n",
    "        frequency[num] += 1\n",
    "else:\n",
    "        frequency[num] = 1\n",
    "\n",
    "max_count = 0\n",
    "max_element = None\n",
    "\n",
    "for key in frequency:\n",
    "    if frequency[key] > max_count:\n",
    "        max_count = frequency[key]\n",
    "        max_element = key\n",
    "\n",
    "print(f\"Maximum occurring element: {max_element}\")\n"
   ]
  },
  {
   "cell_type": "code",
   "execution_count": 55,
   "id": "ee640a38",
   "metadata": {},
   "outputs": [
    {
     "name": "stdout",
     "output_type": "stream",
     "text": [
      "Length of each word is: [2, 7]\n"
     ]
    }
   ],
   "source": [
    "##15. Find the length of each word in a string and return a list.\n",
    "sentence = (input(\"Enter the words:\"))\n",
    "\n",
    "words = sentence.split()\n",
    "lengths = []\n",
    "\n",
    "for word in words:\n",
    "    lengths.append(len(word))\n",
    "\n",
    "print(\"Length of each word is:\",lengths) \n"
   ]
  },
  {
   "cell_type": "code",
   "execution_count": 62,
   "id": "957a4cc9",
   "metadata": {},
   "outputs": [
    {
     "name": "stdout",
     "output_type": "stream",
     "text": [
      "Keys with even values: ['b', 'd']\n"
     ]
    }
   ],
   "source": [
    "##16. Return keys with even values from a dictionary.\n",
    "\n",
    "my_dict = {\"a\": 1, \"b\": 4, \"c\": 7, \"d\": 10}\n",
    "\n",
    "even_keys = []\n",
    "\n",
    "for key, value in my_dict.items():\n",
    "    if value % 2 == 0:\n",
    "        even_keys.append(key)\n",
    "\n",
    "print(\"Keys with even values:\", even_keys)\n"
   ]
  },
  {
   "cell_type": "code",
   "execution_count": 63,
   "id": "67e56d3b",
   "metadata": {},
   "outputs": [
    {
     "name": "stdout",
     "output_type": "stream",
     "text": [
      "Converted dictionary: {0: 'a', 1: 'b', 2: 'c', 3: 'd'}\n"
     ]
    }
   ],
   "source": [
    "##17. Convert a tuple to a dictionary (index: value).\n",
    "my_tuple = ('a', 'b', 'c', 'd')\n",
    "\n",
    "my_dict = {index: value for index, value in enumerate(my_tuple)}\n",
    "\n",
    "print(\"Converted dictionary:\", my_dict)\n"
   ]
  },
  {
   "cell_type": "code",
   "execution_count": 51,
   "id": "f33eb6a9",
   "metadata": {},
   "outputs": [
    {
     "name": "stdout",
     "output_type": "stream",
     "text": [
      "2\n"
     ]
    }
   ],
   "source": [
    "##18. Count words in a sentence.\n",
    "word = input()\n",
    "\n",
    "count=1\n",
    "for i in word:\n",
    "\n",
    "    if i==\" \":\n",
    "        count+=1\n",
    "\n",
    "print(count)"
   ]
  },
  {
   "cell_type": "code",
   "execution_count": 52,
   "id": "d65813e1",
   "metadata": {},
   "outputs": [
    {
     "name": "stdout",
     "output_type": "stream",
     "text": [
      "Word count: 2\n"
     ]
    }
   ],
   "source": [
    "sentence = input(\"Enter a sentence: \")\n",
    "\n",
    "words = sentence.split()\n",
    "print(\"Word count:\", len(words))\n"
   ]
  },
  {
   "cell_type": "code",
   "execution_count": 64,
   "id": "f24b175d",
   "metadata": {},
   "outputs": [
    {
     "name": "stdout",
     "output_type": "stream",
     "text": [
      "Fibonacci sequence:\n",
      "0 1 1 2 3 5 8 13 21 34 "
     ]
    }
   ],
   "source": [
    "##19. Print Fibonacci series up to n terms.\n",
    "n = int(input(\"Enter the number of terms: \"))\n",
    "\n",
    "a, b = 0, 1 \n",
    "count = 0\n",
    "\n",
    "if n <= 0:\n",
    "    print(\"Please enter a positive integer.\")\n",
    "elif n == 1:\n",
    "    print(\"Fibonacci sequence:\")\n",
    "    print(a)\n",
    "else:\n",
    "    print(\"Fibonacci sequence:\")\n",
    "    while count < n:\n",
    "        print(a, end=\" \")\n",
    "        a, b = b, a + b\n",
    "        count += 1\n"
   ]
  },
  {
   "cell_type": "code",
   "execution_count": 60,
   "id": "eafcdbf9",
   "metadata": {},
   "outputs": [
    {
     "name": "stdout",
     "output_type": "stream",
     "text": [
      "Second largest number is: 3434\n"
     ]
    }
   ],
   "source": [
    "##20. Find second largest number in a list.\n",
    "lst1 = [1, 22, 33, 22, 23, 34445, 3434, 3432, 2321]\n",
    "\n",
    "unique_lst = list(set(lst1))\n",
    "\n",
    "unique_lst.sort()\n",
    "\n",
    "second_largest = unique_lst[-2]\n",
    "\n",
    "print(\"Second largest number is:\", second_largest)\n"
   ]
  },
  {
   "cell_type": "code",
   "execution_count": null,
   "id": "0e5e6fa8",
   "metadata": {},
   "outputs": [],
   "source": []
  }
 ],
 "metadata": {
  "kernelspec": {
   "display_name": "Python 3",
   "language": "python",
   "name": "python3"
  },
  "language_info": {
   "codemirror_mode": {
    "name": "ipython",
    "version": 3
   },
   "file_extension": ".py",
   "mimetype": "text/x-python",
   "name": "python",
   "nbconvert_exporter": "python",
   "pygments_lexer": "ipython3",
   "version": "3.12.0"
  }
 },
 "nbformat": 4,
 "nbformat_minor": 5
}
